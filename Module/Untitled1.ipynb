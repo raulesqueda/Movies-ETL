{
 "cells": [
  {
   "cell_type": "code",
   "execution_count": 1,
   "id": "3a866a8f",
   "metadata": {},
   "outputs": [],
   "source": [
    "import os\n",
    "import csv"
   ]
  },
  {
   "cell_type": "code",
   "execution_count": 2,
   "id": "22324e47",
   "metadata": {},
   "outputs": [],
   "source": [
    "# Path to collect data from the Resources folder\n",
    "wrestling_csv = os.path.join(/Resources'WWE-Data-2016.csv')\n"
   ]
  },
  {
   "cell_type": "code",
   "execution_count": 3,
   "id": "c035052a",
   "metadata": {},
   "outputs": [],
   "source": [
    "# Define the function and have it accept the 'wrestlerData' as its sole parameter\n",
    "def print_percentages(wrestler_data):\n",
    "    name = str(wrestler_data[0])\n",
    "    wins = int(wrestler_data[1])\n",
    "    losses = int(wrestler_data[2])\n",
    "    draws = int(wrestler_data[3])"
   ]
  },
  {
   "cell_type": "code",
   "execution_count": 4,
   "id": "9d86a696",
   "metadata": {},
   "outputs": [
    {
     "ename": "NameError",
     "evalue": "name 'wins' is not defined",
     "output_type": "error",
     "traceback": [
      "\u001b[1;31m---------------------------------------------------------------------------\u001b[0m",
      "\u001b[1;31mNameError\u001b[0m                                 Traceback (most recent call last)",
      "\u001b[1;32m~\\AppData\\Local\\Temp\\ipykernel_50868\\1733194432.py\u001b[0m in \u001b[0;36m<module>\u001b[1;34m\u001b[0m\n\u001b[0;32m      1\u001b[0m \u001b[1;31m# Find the total number of matches wrestled\u001b[0m\u001b[1;33m\u001b[0m\u001b[1;33m\u001b[0m\u001b[1;33m\u001b[0m\u001b[0m\n\u001b[1;32m----> 2\u001b[1;33m \u001b[0mtotal_matches\u001b[0m \u001b[1;33m=\u001b[0m \u001b[0mwins\u001b[0m \u001b[1;33m+\u001b[0m \u001b[0mlosses\u001b[0m \u001b[1;33m+\u001b[0m \u001b[0mdraws\u001b[0m\u001b[1;33m\u001b[0m\u001b[1;33m\u001b[0m\u001b[0m\n\u001b[0m",
      "\u001b[1;31mNameError\u001b[0m: name 'wins' is not defined"
     ]
    }
   ],
   "source": [
    "# Find the total number of matches wrestled\n",
    "total_matches = wins + losses + draws"
   ]
  },
  {
   "cell_type": "code",
   "execution_count": null,
   "id": "13235ae8",
   "metadata": {},
   "outputs": [],
   "source": [
    "# Find the percentage of matches won\n",
    "win_percentage = (wins/total_matches)"
   ]
  },
  {
   "cell_type": "code",
   "execution_count": null,
   "id": "a3549de0",
   "metadata": {},
   "outputs": [],
   "source": [
    "# Find the percentage of matches lost\n",
    "loss_percentage = (loss/total_matches)"
   ]
  },
  {
   "cell_type": "code",
   "execution_count": null,
   "id": "f4f2539e",
   "metadata": {},
   "outputs": [],
   "source": [
    "# Find the percentage of matches drawn\n",
    "draw_percentage = (draw/total_matches)"
   ]
  },
  {
   "cell_type": "code",
   "execution_count": null,
   "id": "afc4260b",
   "metadata": {},
   "outputs": [],
   "source": [
    "# Print out the wrestler's name and their percentage stats\n",
    "    print(f\"Stats for {name}\")\n",
    "    print(f\"WIN PERCENT: {str(win_percent)}\")\n",
    "    print(f\"LOSS PERCENT: {str(loss_percent)}\")\n",
    "    print(f\"DRAW PERCENT: {str(draw_percent)}\")"
   ]
  },
  {
   "cell_type": "code",
   "execution_count": null,
   "id": "5624001d",
   "metadata": {},
   "outputs": [],
   "source": [
    "# Read in the CSV file\n",
    "with open(wrestling_csv, 'r') as csvfile:\n",
    "\n",
    "    # Split the data on commas\n",
    "    csvreader = csv.reader(csvfile, delimiter=',')\n",
    "\n",
    "    # Prompt the user for what wrestler they would like to search for\n",
    "    name_to_check = input(\"What wrestler do you want to look for? \")\n",
    "\n",
    "    # Loop through the data\n",
    "    for row in csvreader:\n",
    "\n",
    "        # If the wrestler's name in a row is equal to that which the user input, run the 'print_percentages()' function\n",
    "        if(name_to_check == row[0]):\n",
    "            print_percentages(row)"
   ]
  }
 ],
 "metadata": {
  "kernelspec": {
   "display_name": "PythonData",
   "language": "python",
   "name": "pythondata"
  },
  "language_info": {
   "codemirror_mode": {
    "name": "ipython",
    "version": 3
   },
   "file_extension": ".py",
   "mimetype": "text/x-python",
   "name": "python",
   "nbconvert_exporter": "python",
   "pygments_lexer": "ipython3",
   "version": "3.7.13"
  }
 },
 "nbformat": 4,
 "nbformat_minor": 5
}
