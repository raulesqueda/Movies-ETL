{
 "cells": [
  {
   "cell_type": "code",
   "execution_count": 2,
   "id": "dd156be9",
   "metadata": {},
   "outputs": [],
   "source": [
    "def make_sandwich():\n",
    "    sandwich = f\"Bread | Ham | Cheese | Bread\"\n",
    "    print(sandwich)\n",
    "    return sandwich"
   ]
  },
  {
   "cell_type": "code",
   "execution_count": 4,
   "id": "a5f5c562",
   "metadata": {},
   "outputs": [
    {
     "name": "stdout",
     "output_type": "stream",
     "text": [
      "Bread | Ham | Cheese | Bread\n"
     ]
    },
    {
     "data": {
      "text/plain": [
       "'Bread | Ham | Cheese | Bread'"
      ]
     },
     "execution_count": 4,
     "metadata": {},
     "output_type": "execute_result"
    }
   ],
   "source": [
    "make_sandwich()"
   ]
  },
  {
   "cell_type": "code",
   "execution_count": 7,
   "id": "05c24266",
   "metadata": {},
   "outputs": [],
   "source": [
    "def make_sandwich(bread, prot1, prot2):\n",
    "    sandwich = f\"{bread} | {prot1} | {prot2} | {bread}\"\n",
    "    print(sandwich)\n",
    "    return sandwich"
   ]
  },
  {
   "cell_type": "code",
   "execution_count": 8,
   "id": "5d6a68a1",
   "metadata": {},
   "outputs": [
    {
     "name": "stdout",
     "output_type": "stream",
     "text": [
      "Integral Bread | Roast Beef | Swiss | Integral Bread\n"
     ]
    },
    {
     "data": {
      "text/plain": [
       "'Integral Bread | Roast Beef | Swiss | Integral Bread'"
      ]
     },
     "execution_count": 8,
     "metadata": {},
     "output_type": "execute_result"
    }
   ],
   "source": [
    "make_sandwich(\"Integral Bread\", \"Roast Beef\", \"Swiss\")"
   ]
  },
  {
   "cell_type": "code",
   "execution_count": 10,
   "id": "43f0145f",
   "metadata": {},
   "outputs": [],
   "source": [
    "def make_sandwich(bread, prot1, prot2=\"Cheese\"):\n",
    "    sandwich = f\"{bread} | {prot1} | {prot2} | {bread}\"\n",
    "    print(sandwich)\n",
    "    return sandwich"
   ]
  },
  {
   "cell_type": "code",
   "execution_count": 11,
   "id": "a1e50ed1",
   "metadata": {},
   "outputs": [
    {
     "name": "stdout",
     "output_type": "stream",
     "text": [
      "Integral Bread | Roast Beef | Cheese | Integral Bread\n"
     ]
    },
    {
     "data": {
      "text/plain": [
       "'Integral Bread | Roast Beef | Cheese | Integral Bread'"
      ]
     },
     "execution_count": 11,
     "metadata": {},
     "output_type": "execute_result"
    }
   ],
   "source": [
    "make_sandwich(\"Integral Bread\", \"Roast Beef\")"
   ]
  },
  {
   "cell_type": "code",
   "execution_count": null,
   "id": "407df0e1",
   "metadata": {},
   "outputs": [],
   "source": []
  }
 ],
 "metadata": {
  "kernelspec": {
   "display_name": "PythonData",
   "language": "python",
   "name": "pythondata"
  },
  "language_info": {
   "codemirror_mode": {
    "name": "ipython",
    "version": 3
   },
   "file_extension": ".py",
   "mimetype": "text/x-python",
   "name": "python",
   "nbconvert_exporter": "python",
   "pygments_lexer": "ipython3",
   "version": "3.7.13"
  }
 },
 "nbformat": 4,
 "nbformat_minor": 5
}
