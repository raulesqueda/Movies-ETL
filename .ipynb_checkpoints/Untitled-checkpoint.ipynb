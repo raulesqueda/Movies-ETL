{
 "cells": [
  {
   "cell_type": "code",
   "execution_count": 2,
   "id": "ffb1784d",
   "metadata": {},
   "outputs": [],
   "source": [
    "def make_sandwich():\n",
    "    sandwich = f\"Bread | Ham | Cheese | Bread\"\n",
    "    print(sandwich)\n",
    "    return sandwich"
   ]
  },
  {
   "cell_type": "code",
   "execution_count": 4,
   "id": "b26b8a56",
   "metadata": {},
   "outputs": [
    {
     "name": "stdout",
     "output_type": "stream",
     "text": [
      "Bread | Ham | Cheese | Bread\n"
     ]
    },
    {
     "data": {
      "text/plain": [
       "'Bread | Ham | Cheese | Bread'"
      ]
     },
     "execution_count": 4,
     "metadata": {},
     "output_type": "execute_result"
    }
   ],
   "source": [
    "make_sandwich()"
   ]
  },
  {
   "cell_type": "code",
   "execution_count": 7,
   "id": "5e89dbb8",
   "metadata": {},
   "outputs": [],
   "source": [
    "def make_sandwich(bread, prot1, prot2):\n",
    "    sandwich = f\"{bread} | {prot1} | {prot2} | {bread}\"\n",
    "    print(sandwich)\n",
    "    return sandwich"
   ]
  },
  {
   "cell_type": "code",
   "execution_count": 8,
   "id": "ea051e45",
   "metadata": {},
   "outputs": [
    {
     "name": "stdout",
     "output_type": "stream",
     "text": [
      "Integral Bread | Roast Beef | Swiss | Integral Bread\n"
     ]
    },
    {
     "data": {
      "text/plain": [
       "'Integral Bread | Roast Beef | Swiss | Integral Bread'"
      ]
     },
     "execution_count": 8,
     "metadata": {},
     "output_type": "execute_result"
    }
   ],
   "source": [
    "make_sandwich(\"Integral Bread\", \"Roast Beef\", \"Swiss\")"
   ]
  },
  {
   "cell_type": "code",
   "execution_count": 10,
   "id": "e18294f9",
   "metadata": {},
   "outputs": [],
   "source": [
    "def make_sandwich(bread, prot1, prot2=\"Cheese\"):\n",
    "    sandwich = f\"{bread} | {prot1} | {prot2} | {bread}\"\n",
    "    print(sandwich)\n",
    "    return sandwich"
   ]
  },
  {
   "cell_type": "code",
   "execution_count": 11,
   "id": "33a56d14",
   "metadata": {},
   "outputs": [
    {
     "name": "stdout",
     "output_type": "stream",
     "text": [
      "Integral Bread | Roast Beef | Cheese | Integral Bread\n"
     ]
    },
    {
     "data": {
      "text/plain": [
       "'Integral Bread | Roast Beef | Cheese | Integral Bread'"
      ]
     },
     "execution_count": 11,
     "metadata": {},
     "output_type": "execute_result"
    }
   ],
   "source": [
    "make_sandwich(\"Integral Bread\", \"Roast Beef\")"
   ]
  }
 ],
 "metadata": {
  "kernelspec": {
   "display_name": "PythonData",
   "language": "python",
   "name": "pythondata"
  },
  "language_info": {
   "codemirror_mode": {
    "name": "ipython",
    "version": 3
   },
   "file_extension": ".py",
   "mimetype": "text/x-python",
   "name": "python",
   "nbconvert_exporter": "python",
   "pygments_lexer": "ipython3",
   "version": "3.7.13"
  }
 },
 "nbformat": 4,
 "nbformat_minor": 5
}
