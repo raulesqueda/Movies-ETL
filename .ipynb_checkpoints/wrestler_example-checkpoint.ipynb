{
 "cells": [
  {
   "cell_type": "code",
   "execution_count": null,
   "id": "6dfd2346",
   "metadata": {},
   "outputs": [],
   "source": [
    "import os\n",
    "import csv"
   ]
  },
  {
   "cell_type": "code",
   "execution_count": null,
   "id": "3cc7550d",
   "metadata": {},
   "outputs": [],
   "source": [
    "# Path to collect data from the Resources folder\n",
    "wrestling_csv = os.path.join(\"Resources\",\"WWE-Data-2016.csv\")\n"
   ]
  },
  {
   "cell_type": "code",
   "execution_count": null,
   "id": "cc241a4f",
   "metadata": {},
   "outputs": [],
   "source": [
    "# Define the function and have it accept the 'wrestlerData' as its sole parameter\n",
    "def print_percentages(wrestler_data):\n",
    "    name = str(wrestler_data[0])\n",
    "    wins = int(wrestler_data[1])\n",
    "    losses = int(wrestler_data[2])\n",
    "    draws = int(wrestler_data[3])"
   ]
  },
  {
   "cell_type": "code",
   "execution_count": null,
   "id": "0f24d90a",
   "metadata": {},
   "outputs": [],
   "source": [
    "# Find the total number of matches wrestled\n",
    "total_matches = wins + losses + draws"
   ]
  },
  {
   "cell_type": "code",
   "execution_count": null,
   "id": "a64c3d59",
   "metadata": {},
   "outputs": [],
   "source": [
    "# Find the percentage of matches won\n",
    "win_percentage = (wins/total_matches)"
   ]
  },
  {
   "cell_type": "code",
   "execution_count": null,
   "id": "e678382f",
   "metadata": {},
   "outputs": [],
   "source": [
    "# Find the percentage of matches lost\n",
    "loss_percentage = (loss/total_matches)"
   ]
  },
  {
   "cell_type": "code",
   "execution_count": null,
   "id": "27608877",
   "metadata": {},
   "outputs": [],
   "source": [
    "# Find the percentage of matches drawn\n",
    "draw_percentage = (draw/total_matches)"
   ]
  },
  {
   "cell_type": "code",
   "execution_count": null,
   "id": "93430a8a",
   "metadata": {},
   "outputs": [],
   "source": [
    "# Print out the wrestler's name and their percentage stats\n",
    "    print(f\"Stats for {name}\")\n",
    "    print(f\"WIN PERCENT: {str(win_percent)}\")\n",
    "    print(f\"LOSS PERCENT: {str(loss_percent)}\")\n",
    "    print(f\"DRAW PERCENT: {str(draw_percent)}\")"
   ]
  },
  {
   "cell_type": "code",
   "execution_count": null,
   "id": "05aaceef",
   "metadata": {},
   "outputs": [],
   "source": [
    "# Read in the CSV file\n",
    "with open(wrestling_csv, 'r') as csvfile:\n",
    "\n",
    "    # Split the data on commas\n",
    "    csvreader = csv.reader(csvfile, delimiter=',')\n",
    "\n",
    "    # Prompt the user for what wrestler they would like to search for\n",
    "    name_to_check = input(\"What wrestler do you want to look for? \")\n",
    "\n",
    "    # Loop through the data\n",
    "    for row in csvreader:\n",
    "\n",
    "        # If the wrestler's name in a row is equal to that which the user input, run the 'print_percentages()' function\n",
    "        if(name_to_check == row[0]):\n",
    "            print_percentages(row)"
   ]
  }
 ],
 "metadata": {
  "kernelspec": {
   "display_name": "PythonData",
   "language": "python",
   "name": "pythondata"
  },
  "language_info": {
   "codemirror_mode": {
    "name": "ipython",
    "version": 3
   },
   "file_extension": ".py",
   "mimetype": "text/x-python",
   "name": "python",
   "nbconvert_exporter": "python",
   "pygments_lexer": "ipython3",
   "version": "3.7.13"
  }
 },
 "nbformat": 4,
 "nbformat_minor": 5
}
